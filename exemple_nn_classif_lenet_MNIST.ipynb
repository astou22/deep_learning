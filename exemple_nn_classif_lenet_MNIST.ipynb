{
 "cells": [
  {
   "cell_type": "code",
   "execution_count": 1,
   "metadata": {},
   "outputs": [],
   "source": [
    "%matplotlib inline\n",
    "import numpy as np\n",
    "import matplotlib.pyplot as plt\n",
    "from scipy.io import loadmat # SciPy module that loads mat-files"
   ]
  },
  {
   "cell_type": "markdown",
   "metadata": {},
   "source": [
    "\n",
    "Neural Networks\n",
    "===============\n",
    "\n",
    "Neural networks can be constructed using the ``torch.nn`` package.\n",
    "\n",
    "Now that you had a glimpse of ``autograd``, ``nn`` depends on\n",
    "``autograd`` to define models and differentiate them.\n",
    "An ``nn.Module`` contains layers, and a method ``forward(input)``\\ that\n",
    "returns the ``output``.\n",
    "\n",
    "For example, look at this network that classifies digit images:\n",
    "\n",
    "![alt text](fig/convnet-mnist.png \"Title\")\n",
    "\n",
    "It is a simple feed-forward network. It takes the input, feeds it\n",
    "through several layers one after the other, and then finally gives the\n",
    "output.\n",
    "\n",
    "A typical training procedure for a neural network is as follows:\n",
    "\n",
    "- Define the neural network that has some learnable parameters (or\n",
    "  weights)\n",
    "- Iterate over a dataset of inputs\n",
    "- Process input through the network\n",
    "- Compute the loss (how far is the output from being correct)\n",
    "- Propagate gradients back into the network’s parameters\n",
    "- Update the weights of the network, typically using a simple update rule:\n",
    "  ``weight = weight - learning_rate * gradient``\n",
    "\n",
    "Define the network\n",
    "------------------\n",
    "\n",
    "Let’s define this network:\n",
    "\n"
   ]
  },
  {
   "cell_type": "code",
   "execution_count": 2,
   "metadata": {},
   "outputs": [
    {
     "name": "stdout",
     "output_type": "stream",
     "text": [
      "Net(\n",
      "  (conv1): Conv2d(1, 6, kernel_size=(5, 5), stride=(1, 1))\n",
      "  (conv2): Conv2d(6, 16, kernel_size=(5, 5), stride=(1, 1))\n",
      "  (fc1): Linear(in_features=400, out_features=120, bias=True)\n",
      "  (fc2): Linear(in_features=120, out_features=84, bias=True)\n",
      "  (fc3): Linear(in_features=84, out_features=10, bias=True)\n",
      ")\n"
     ]
    }
   ],
   "source": [
    "import torch\n",
    "import torch.nn as nn\n",
    "import torch.nn.functional as F\n",
    "\n",
    "\n",
    "class Net(nn.Module):\n",
    "\n",
    "    def __init__(self):\n",
    "        super(Net, self).__init__()\n",
    "        # 1 input image channel, 6 output channels, 5x5 square convolution\n",
    "        # kernel\n",
    "        self.conv1 = nn.Conv2d(1, 6, 5)\n",
    "        self.conv2 = nn.Conv2d(6, 16, 5)\n",
    "        # an affine operation: y = Wx + b\n",
    "        self.fc1 = nn.Linear(16 * 5 * 5, 120)\n",
    "        self.fc2 = nn.Linear(120, 84)\n",
    "        self.fc3 = nn.Linear(84, 10)\n",
    "\n",
    "    def forward(self, x):\n",
    "        # Max pooling over a (2, 2) window\n",
    "        x = F.max_pool2d(F.relu(self.conv1(x)), (2, 2))\n",
    "        # If the size is a square you can only specify a single number\n",
    "        x = F.max_pool2d(F.relu(self.conv2(x)), 2)\n",
    "        x = x.view(-1, self.num_flat_features(x))\n",
    "        x = F.relu(self.fc1(x))\n",
    "        x = F.relu(self.fc2(x))\n",
    "        x = self.fc3(x)\n",
    "        return x\n",
    "\n",
    "    def num_flat_features(self, x):\n",
    "        size = x.size()[1:]  # all dimensions except the batch dimension\n",
    "        num_features = 1\n",
    "        for s in size:\n",
    "            num_features *= s\n",
    "        return num_features\n",
    "\n",
    "\n",
    "net = Net()\n",
    "print(net)"
   ]
  },
  {
   "cell_type": "markdown",
   "metadata": {},
   "source": [
    "You just have to define the ``forward`` function, and the ``backward``\n",
    "function (where gradients are computed) is automatically defined for you\n",
    "using ``autograd``.\n",
    "You can use any of the Tensor operations in the ``forward`` function.\n",
    "\n",
    "The learnable parameters of a model are returned by ``net.parameters()``\n",
    "\n"
   ]
  },
  {
   "cell_type": "code",
   "execution_count": 3,
   "metadata": {},
   "outputs": [
    {
     "name": "stdout",
     "output_type": "stream",
     "text": [
      "10\n",
      "torch.Size([6, 1, 5, 5])\n"
     ]
    }
   ],
   "source": [
    "params = list(net.parameters())\n",
    "print(len(params))\n",
    "print(params[0].size())  # conv1's .weight"
   ]
  },
  {
   "cell_type": "markdown",
   "metadata": {},
   "source": [
    "Let try a random 32x32 input.\n",
    "Note: expected input size of this net (LeNet) is 32x32. To use this net on\n",
    "MNIST dataset, please resize the images from the dataset to 32x32.\n",
    "\n"
   ]
  },
  {
   "cell_type": "code",
   "execution_count": 4,
   "metadata": {},
   "outputs": [
    {
     "name": "stdout",
     "output_type": "stream",
     "text": [
      "tensor([[ 0.0056, -0.0181, -0.0466,  0.0406,  0.0238,  0.0154,  0.1000,  0.1134,\n",
      "         -0.0876, -0.0871]], grad_fn=<AddmmBackward>)\n"
     ]
    }
   ],
   "source": [
    "input = torch.randn(1, 1, 32, 32)\n",
    "out = net(input)\n",
    "print(out)"
   ]
  },
  {
   "cell_type": "markdown",
   "metadata": {},
   "source": [
    "Zero the gradient buffers of all parameters and backprops with random\n",
    "gradients:\n",
    "\n"
   ]
  },
  {
   "cell_type": "code",
   "execution_count": 5,
   "metadata": {},
   "outputs": [],
   "source": [
    "net.zero_grad()\n",
    "out.backward(torch.randn(1, 10))"
   ]
  },
  {
   "cell_type": "markdown",
   "metadata": {},
   "source": [
    "<div class=\"alert alert-info\"><h4>Note</h4><p>``torch.nn`` only supports mini-batches. The entire ``torch.nn``\n",
    "    package only supports inputs that are a mini-batch of samples, and not\n",
    "    a single sample.\n",
    "\n",
    "    For example, ``nn.Conv2d`` will take in a 4D Tensor of\n",
    "    ``nSamples x nChannels x Height x Width``.\n",
    "\n",
    "    If you have a single sample, just use ``input.unsqueeze(0)`` to add\n",
    "    a fake batch dimension.\n",
    "\n",
    "Before proceeding further, let's recap all the classes you’ve seen so far.\n",
    "\n",
    "**Recap:**\n",
    "  -  ``torch.Tensor`` - A *multi-dimensional array* with support for autograd\n",
    "     operations like ``backward()``. Also *holds the gradient* w.r.t. the\n",
    "     tensor.\n",
    "  -  ``nn.Module`` - Neural network module. *Convenient way of\n",
    "     encapsulating parameters*, with helpers for moving them to GPU,\n",
    "     exporting, loading, etc.\n",
    "  -  ``nn.Parameter`` - A kind of Tensor, that is *automatically\n",
    "     registered as a parameter when assigned as an attribute to a*\n",
    "     ``Module``.\n",
    "  -  ``autograd.Function`` - Implements *forward and backward definitions\n",
    "     of an autograd operation*. Every ``Tensor`` operation creates at\n",
    "     least a single ``Function`` node that connects to functions that\n",
    "     created a ``Tensor`` and *encodes its history*.\n",
    "\n",
    "**At this point, we covered:**\n",
    "  -  Defining a neural network\n",
    "  -  Processing inputs and calling backward\n",
    "\n",
    "**Still Left:**\n",
    "  -  Computing the loss\n",
    "  -  Updating the weights of the network\n",
    "\n",
    "Loss Function\n",
    "-------------\n",
    "A loss function takes the (output, target) pair of inputs, and computes a\n",
    "value that estimates how far away the output is from the target.\n",
    "\n",
    "There are several different\n",
    "loss functions https://pytorch.org/docs/nn.html#loss-functions under the\n",
    "nn package .\n",
    "A simple loss is: ``nn.MSELoss`` which computes the mean-squared error\n",
    "between the input and the target.\n",
    "\n",
    "For example:\n",
    "\n",
    "</div>"
   ]
  },
  {
   "cell_type": "code",
   "execution_count": 6,
   "metadata": {},
   "outputs": [
    {
     "name": "stdout",
     "output_type": "stream",
     "text": [
      "tensor([[ 0.5202,  0.9132, -0.9971,  0.5892, -0.8145, -0.2946, -1.6890,  1.2865,\n",
      "         -1.0162,  0.5626]])\n",
      "tensor(0.8997, grad_fn=<MseLossBackward>)\n"
     ]
    }
   ],
   "source": [
    "output = net(input)\n",
    "target = torch.randn(10)  # a dummy target, for example\n",
    "target = target.view(1, -1)  # make it the same shape as output\n",
    "print(target)\n",
    "criterion = nn.MSELoss()\n",
    "\n",
    "loss = criterion(output, target)\n",
    "print(loss)"
   ]
  },
  {
   "cell_type": "markdown",
   "metadata": {},
   "source": [
    "Now, if you follow ``loss`` in the backward direction, using its\n",
    "``.grad_fn`` attribute, you will see a graph of computations that looks\n",
    "like this:\n",
    "\n",
    "::\n",
    "\n",
    "    input -> conv2d -> relu -> maxpool2d -> conv2d -> relu -> maxpool2d\n",
    "          -> view -> linear -> relu -> linear -> relu -> linear\n",
    "          -> MSELoss\n",
    "          -> loss\n",
    "\n",
    "So, when we call ``loss.backward()``, the whole graph is differentiated\n",
    "w.r.t. the loss, and all Tensors in the graph that has ``requires_grad=True``\n",
    "will have their ``.grad`` Tensor accumulated with the gradient.\n",
    "\n",
    "For illustration, let us follow a few steps backward:\n",
    "\n"
   ]
  },
  {
   "cell_type": "code",
   "execution_count": 7,
   "metadata": {},
   "outputs": [
    {
     "name": "stdout",
     "output_type": "stream",
     "text": [
      "<MseLossBackward object at 0x10fb7e588>\n",
      "<AddmmBackward object at 0x10fb7e518>\n",
      "<AccumulateGrad object at 0x10fb7e588>\n"
     ]
    }
   ],
   "source": [
    "print(loss.grad_fn)  # MSELoss\n",
    "print(loss.grad_fn.next_functions[0][0])  # Linear\n",
    "print(loss.grad_fn.next_functions[0][0].next_functions[0][0])  # ReLU"
   ]
  },
  {
   "cell_type": "markdown",
   "metadata": {},
   "source": [
    "Backprop\n",
    "--------\n",
    "To backpropagate the error all we have to do is to ``loss.backward()``.\n",
    "You need to clear the existing gradients though, else gradients will be\n",
    "accumulated to existing gradients.\n",
    "\n",
    "\n",
    "Now we shall call ``loss.backward()``, and have a look at conv1's bias\n",
    "gradients before and after the backward.\n",
    "\n"
   ]
  },
  {
   "cell_type": "code",
   "execution_count": 8,
   "metadata": {},
   "outputs": [
    {
     "name": "stdout",
     "output_type": "stream",
     "text": [
      "conv1.bias.grad before backward\n",
      "tensor([0., 0., 0., 0., 0., 0.])\n",
      "conv1.bias.grad after backward\n",
      "tensor([-0.0052,  0.0098,  0.0188, -0.0077,  0.0145,  0.0077])\n"
     ]
    }
   ],
   "source": [
    "net.zero_grad()     # zeroes the gradient buffers of all parameters\n",
    "\n",
    "print('conv1.bias.grad before backward')\n",
    "print(net.conv1.bias.grad)\n",
    "\n",
    "loss.backward()\n",
    "\n",
    "print('conv1.bias.grad after backward')\n",
    "print(net.conv1.bias.grad)"
   ]
  },
  {
   "cell_type": "markdown",
   "metadata": {},
   "source": [
    "Now, we have seen how to use loss functions.\n",
    "\n",
    "**Read Later:**\n",
    "\n",
    "  The neural network package contains various modules and loss functions\n",
    "  that form the building blocks of deep neural networks. A full list with\n",
    "  documentation is here https://pytorch.org/docs/nn.\n",
    "\n",
    "**The only thing left to learn is:**\n",
    "\n",
    "  - Updating the weights of the network\n",
    "\n",
    "Update the weights\n",
    "------------------\n",
    "The simplest update rule used in practice is the Stochastic Gradient\n",
    "Descent (SGD):\n",
    "\n",
    "     ``weight = weight - learning_rate * gradient``\n",
    "\n",
    "We can implement this using simple python code:\n",
    "\n",
    ".. code:: python\n",
    "\n",
    "    learning_rate = 0.01\n",
    "    for f in net.parameters():\n",
    "        f.data.sub_(f.grad.data * learning_rate)\n",
    "\n",
    "However, as you use neural networks, you want to use various different\n",
    "update rules such as SGD, Nesterov-SGD, Adam, RMSProp, etc.\n",
    "To enable this, we built a small package: ``torch.optim`` that\n",
    "implements all these methods. Using it is very simple:\n",
    "\n"
   ]
  },
  {
   "cell_type": "code",
   "execution_count": 9,
   "metadata": {},
   "outputs": [],
   "source": [
    "import torch.optim as optim\n",
    "\n",
    "# create your optimizer\n",
    "optimizer = optim.SGD(net.parameters(), lr=0.01)\n",
    "\n",
    "# in your training loop:\n",
    "optimizer.zero_grad()   # zero the gradient buffers\n",
    "output = net(input)\n",
    "loss = criterion(output, target)\n",
    "loss.backward()\n",
    "optimizer.step()    # Does the update"
   ]
  },
  {
   "cell_type": "markdown",
   "metadata": {},
   "source": [
    "\n",
    "      Observe how gradient buffers had to be manually set to zero using\n",
    "      ``optimizer.zero_grad()``. This is because gradients are accumulated\n",
    "      as explained in `Backprop`_ section.\n",
    "\n"
   ]
  },
  {
   "cell_type": "markdown",
   "metadata": {},
   "source": [
    "## Essai sur chiffres MNIST\n",
    "\n",
    "La rétine de notre réseau fait 32x32"
   ]
  },
  {
   "cell_type": "markdown",
   "metadata": {},
   "source": [
    "### Chargement et préparation des données"
   ]
  },
  {
   "cell_type": "code",
   "execution_count": 10,
   "metadata": {},
   "outputs": [
    {
     "name": "stdout",
     "output_type": "stream",
     "text": [
      "{'__header__': b'MATLAB 5.0 MAT-file Platform: posix, Created on: Sun Mar 30 03:19:02 2014', '__version__': '1.0', '__globals__': [], 'mldata_descr_ordering': array([[array(['label'], dtype='<U5'), array(['data'], dtype='<U4')]],\n",
      "      dtype=object), 'data': array([[0, 0, 0, ..., 0, 0, 0],\n",
      "       [0, 0, 0, ..., 0, 0, 0],\n",
      "       [0, 0, 0, ..., 0, 0, 0],\n",
      "       ...,\n",
      "       [0, 0, 0, ..., 0, 0, 0],\n",
      "       [0, 0, 0, ..., 0, 0, 0],\n",
      "       [0, 0, 0, ..., 0, 0, 0]], dtype=uint8), 'label': array([[0., 0., 0., ..., 9., 9., 9.]])}\n"
     ]
    }
   ],
   "source": [
    "mnist_raw = loadmat('../data/mnist-original.mat')\n",
    "print(mnist_raw)"
   ]
  },
  {
   "cell_type": "code",
   "execution_count": 11,
   "metadata": {},
   "outputs": [
    {
     "name": "stdout",
     "output_type": "stream",
     "text": [
      "torch.Size([70000, 1, 28, 28])\n",
      "(70000,)\n",
      "[0 0 0 0 0 0 0 0 0 0]\n"
     ]
    }
   ],
   "source": [
    "data = torch.from_numpy(mnist_raw['data'].transpose()).view((-1,1,28,28))\n",
    "print(data.shape) # 70000 28x28 images\n",
    "label = mnist_raw['label'].reshape(-1).astype(int)\n",
    "print(label.shape)\n",
    "print(label[:10])"
   ]
  },
  {
   "cell_type": "code",
   "execution_count": 12,
   "metadata": {},
   "outputs": [
    {
     "data": {
      "text/plain": [
       "<matplotlib.image.AxesImage at 0xb1d76acf8>"
      ]
     },
     "execution_count": 12,
     "metadata": {},
     "output_type": "execute_result"
    },
    {
     "data": {
      "image/png": "[encoded data removed]",
      "text/plain": [
       "<Figure size 432x288 with 1 Axes>"
      ]
     },
     "metadata": {
      "needs_background": "light"
     },
     "output_type": "display_data"
    }
   ],
   "source": [
    "plt.imshow(data[0][0], cmap = plt.cm.gray, clim=(0, 255))"
   ]
  },
  {
   "cell_type": "code",
   "execution_count": 13,
   "metadata": {},
   "outputs": [
    {
     "data": {
      "text/plain": [
       "<matplotlib.image.AxesImage at 0xb1d8d7ac8>"
      ]
     },
     "execution_count": 13,
     "metadata": {},
     "output_type": "execute_result"
    },
    {
     "data": {
      "image/png": "[encoded data removed]",
      "text/plain": [
       "<Figure size 432x288 with 1 Axes>"
      ]
     },
     "metadata": {
      "needs_background": "light"
     },
     "output_type": "display_data"
    }
   ],
   "source": [
    "a = nn.functional.pad(data[0][0], (2,2,2,2) )\n",
    "plt.imshow(a, cmap = plt.cm.gray, clim=(0, 255))"
   ]
  },
  {
   "cell_type": "code",
   "execution_count": 14,
   "metadata": {},
   "outputs": [],
   "source": [
    "# Normalize: passe de [0, 255] à [0, 1], et ajoute marge de 2 pixels (padding)\n",
    "def normalise_image(x):\n",
    "    im32 = nn.functional.pad(x, (2,2,2,2))\n",
    "    imx = im32.to(torch.float)\n",
    "    return imx / 255\n"
   ]
  },
  {
   "cell_type": "code",
   "execution_count": 15,
   "metadata": {},
   "outputs": [],
   "source": [
    "X = normalise_image(data)"
   ]
  },
  {
   "cell_type": "code",
   "execution_count": 16,
   "metadata": {},
   "outputs": [
    {
     "data": {
      "text/plain": [
       "<matplotlib.image.AxesImage at 0xb1da38400>"
      ]
     },
     "execution_count": 16,
     "metadata": {},
     "output_type": "execute_result"
    },
    {
     "data": {
      "image/png": "[encoded data removed]",
      "text/plain": [
       "<Figure size 432x288 with 1 Axes>"
      ]
     },
     "metadata": {
      "needs_background": "light"
     },
     "output_type": "display_data"
    }
   ],
   "source": [
    "plt.imshow(X[7000][0], cmap = plt.cm.gray, clim=(0, 1))"
   ]
  },
  {
   "cell_type": "code",
   "execution_count": 17,
   "metadata": {},
   "outputs": [
    {
     "data": {
      "text/plain": [
       "tensor([0., 1., 0., 0., 0., 0., 0., 0., 0., 0.])"
      ]
     },
     "execution_count": 17,
     "metadata": {},
     "output_type": "execute_result"
    }
   ],
   "source": [
    "# Génère les vecteurs de sortie en dimension 10\n",
    "# \"one-hot format\"\n",
    "\n",
    "Y = torch.zeros([len(X), 10], dtype=torch.float)\n",
    "for i in range(len(X)):\n",
    "    Y[i][label[i]] = 1.\n",
    "\n",
    "Y[7000]"
   ]
  },
  {
   "cell_type": "code",
   "execution_count": 18,
   "metadata": {},
   "outputs": [
    {
     "data": {
      "text/plain": [
       "tensor([9, 8, 3, 2, 0, 5, 6, 1, 7, 4])"
      ]
     },
     "execution_count": 18,
     "metadata": {},
     "output_type": "execute_result"
    }
   ],
   "source": [
    "# .randperm génère des permutations:\n",
    "torch.randperm(10)"
   ]
  },
  {
   "cell_type": "code",
   "execution_count": 19,
   "metadata": {},
   "outputs": [
    {
     "name": "stdout",
     "output_type": "stream",
     "text": [
      "torch.Size([70000, 1, 32, 32])\n"
     ]
    }
   ],
   "source": [
    "# Mélange les exemples:\n",
    "indices_permutes = torch.randperm(len(X))\n",
    "X_perm = X[indices_permutes]\n",
    "Y_perm = Y[indices_permutes]\n",
    "print(X_perm.size())"
   ]
  },
  {
   "cell_type": "code",
   "execution_count": 20,
   "metadata": {},
   "outputs": [
    {
     "name": "stdout",
     "output_type": "stream",
     "text": [
      "Learning on 46666 examples\n",
      "Eval     on 23334 examples\n"
     ]
    }
   ],
   "source": [
    "n_train = (len(X)*2)//3\n",
    "X_train = X_perm[:n_train]\n",
    "Y_train = Y_perm[:n_train]\n",
    "\n",
    "X_test = X_perm[n_train:]\n",
    "Y_test = Y_perm[n_train:]\n",
    "print('Learning on', len(X_train), 'examples')\n",
    "print('Eval     on', len(X_test), 'examples')"
   ]
  },
  {
   "cell_type": "code",
   "execution_count": 21,
   "metadata": {},
   "outputs": [
    {
     "name": "stdout",
     "output_type": "stream",
     "text": [
      "tensor([[ 0.0139, -0.0130, -0.0168,  0.0030,  0.0263,  0.0134,  0.0374,  0.0968,\n",
      "         -0.1069, -0.0830]], grad_fn=<AddmmBackward>)\n"
     ]
    }
   ],
   "source": [
    "out = net(X_train[0:1])\n",
    "print(out)"
   ]
  },
  {
   "cell_type": "code",
   "execution_count": 22,
   "metadata": {},
   "outputs": [
    {
     "data": {
      "text/plain": [
       "tensor(7)"
      ]
     },
     "execution_count": 22,
     "metadata": {},
     "output_type": "execute_result"
    }
   ],
   "source": [
    "# La classe prédite (0, 1, 2, ..., 9) est donnée par l'indice du max\n",
    "torch.argmax(out)"
   ]
  },
  {
   "cell_type": "code",
   "execution_count": 23,
   "metadata": {},
   "outputs": [
    {
     "name": "stdout",
     "output_type": "stream",
     "text": [
      "Nombre d'erreurs: 893 ( 89.3 %)\n"
     ]
    }
   ],
   "source": [
    "# Calcul de l'erreur de classification\n",
    "def nb_erreur_classif(Y_true, Y_pred):\n",
    "    \"\"\"Nombre d'erreur de classification, sur les 2 tenseurs de sortie \"one-hot\"\n",
    "    \"\"\"\n",
    "    Y_pred_cls = np.argmax(Y_pred.detach().numpy(), axis=1)\n",
    "    Y_true_cls = np.argmax(Y_true.detach().numpy(), axis=1)\n",
    "    return sum(Y_pred_cls != Y_true_cls)\n",
    "\n",
    "# Essai sur les 1000 premiers:\n",
    "nb_err = nb_erreur_classif( Y_train[:1000], net(X_train[:1000]) ) \n",
    "print(\"Nombre d'erreurs:\", nb_err, \"(\", nb_err*100/1000., \"%)\")"
   ]
  },
  {
   "cell_type": "markdown",
   "metadata": {},
   "source": [
    "### Apprentissage:"
   ]
  },
  {
   "cell_type": "code",
   "execution_count": 24,
   "metadata": {},
   "outputs": [],
   "source": [
    "optimizer = torch.optim.SGD(net.parameters(), lr=0.05, momentum=0.8)\n",
    "batch_size = 1000\n",
    "num_epochs = 10\n",
    "\n",
    "losses = []\n",
    "err_rates = []"
   ]
  },
  {
   "cell_type": "code",
   "execution_count": 29,
   "metadata": {},
   "outputs": [
    {
     "name": "stdout",
     "output_type": "stream",
     "text": [
      "starting epoch 0\n",
      "loss= 0.013354413211345673\n",
      "loss= 0.012208815664052963\n",
      "loss= 0.012675418518483639\n",
      "loss= 0.011411969549953938\n",
      "loss= 0.012042001821100712\n",
      "Nombre d'erreurs (training set): 1817 (3.9%)\n",
      "starting epoch 1\n",
      "loss= 0.013113651424646378\n",
      "loss= 0.0119709437713027\n",
      "loss= 0.012423180043697357\n",
      "loss= 0.01117902435362339\n",
      "loss= 0.011803108267486095\n",
      "Nombre d'erreurs (training set): 1784 (3.8%)\n",
      "starting epoch 2\n",
      "loss= 0.012882324866950512\n",
      "loss= 0.011746021918952465\n",
      "loss= 0.012185306288301945\n",
      "loss= 0.010953949764370918\n",
      "loss= 0.011580416932702065\n",
      "Nombre d'erreurs (training set): 1744 (3.7%)\n",
      "starting epoch 3\n",
      "loss= 0.012662396766245365\n",
      "loss= 0.011541372165083885\n",
      "loss= 0.011956810019910336\n",
      "loss= 0.010743658058345318\n",
      "loss= 0.011368295177817345\n",
      "Nombre d'erreurs (training set): 1718 (3.7%)\n",
      "starting epoch 4\n",
      "loss= 0.01245251577347517\n",
      "loss= 0.0113377645611763\n",
      "loss= 0.011735593900084496\n",
      "loss= 0.010537508875131607\n",
      "loss= 0.011168004013597965\n",
      "Nombre d'erreurs (training set): 1672 (3.6%)\n",
      "starting epoch 5\n",
      "loss= 0.01225029956549406\n",
      "loss= 0.011137313209474087\n",
      "loss= 0.01153040025383234\n",
      "loss= 0.010340828448534012\n",
      "loss= 0.010976647026836872\n",
      "Nombre d'erreurs (training set): 1639 (3.5%)\n",
      "starting epoch 6\n",
      "loss= 0.012056826613843441\n",
      "loss= 0.010949966497719288\n",
      "loss= 0.011336850002408028\n",
      "loss= 0.01015348732471466\n",
      "loss= 0.01079106330871582\n",
      "Nombre d'erreurs (training set): 1596 (3.4%)\n",
      "starting epoch 7\n",
      "loss= 0.011868167668581009\n",
      "loss= 0.010771921835839748\n",
      "loss= 0.011148003861308098\n",
      "loss= 0.009970852173864841\n",
      "loss= 0.01061050221323967\n",
      "Nombre d'erreurs (training set): 1566 (3.4%)\n",
      "starting epoch 8\n",
      "loss= 0.011678863316774368\n",
      "loss= 0.010608330368995667\n",
      "loss= 0.01097420696169138\n",
      "loss= 0.00979586597532034\n",
      "loss= 0.010437464341521263\n",
      "Nombre d'erreurs (training set): 1547 (3.3%)\n",
      "starting epoch 9\n",
      "loss= 0.011499334126710892\n",
      "loss= 0.010445265099406242\n",
      "loss= 0.010804366320371628\n",
      "loss= 0.009626413695514202\n",
      "loss= 0.010269996710121632\n",
      "Nombre d'erreurs (training set): 1526 (3.3%)\n",
      "starting epoch 10\n",
      "loss= 0.011327861808240414\n",
      "loss= 0.01028741616755724\n",
      "loss= 0.0106405233964324\n",
      "loss= 0.009461159817874432\n",
      "loss= 0.010111378505825996\n",
      "Nombre d'erreurs (training set): 1513 (3.2%)\n",
      "starting epoch 11\n",
      "loss= 0.011169800534844398\n",
      "loss= 0.010144049301743507\n",
      "loss= 0.010487073101103306\n",
      "loss= 0.00930144265294075\n",
      "loss= 0.00996150728315115\n",
      "Nombre d'erreurs (training set): 1491 (3.2%)\n",
      "starting epoch 12\n",
      "loss= 0.011012371629476547\n",
      "loss= 0.009996222332119942\n",
      "loss= 0.010338864289224148\n",
      "loss= 0.009153749793767929\n",
      "loss= 0.009819547645747662\n",
      "Nombre d'erreurs (training set): 1468 (3.1%)\n",
      "starting epoch 13\n",
      "loss= 0.01086734700948\n",
      "loss= 0.009853548370301723\n",
      "loss= 0.01019637007266283\n",
      "loss= 0.009005502797663212\n",
      "loss= 0.009682469069957733\n",
      "Nombre d'erreurs (training set): 1442 (3.1%)\n",
      "starting epoch 14\n",
      "loss= 0.010730096139013767\n",
      "loss= 0.009718408808112144\n",
      "loss= 0.010061218403279781\n",
      "loss= 0.008866132237017155\n",
      "loss= 0.009548897854983807\n",
      "Nombre d'erreurs (training set): 1429 (3.1%)\n",
      "ok.\n"
     ]
    }
   ],
   "source": [
    "# Boucle d'apprentissage\n",
    "\n",
    "for epoch in range(num_epochs):\n",
    "    print(\"starting epoch\", epoch)\n",
    "    for beg_i in range(0, X_train.size(0), batch_size):\n",
    "        x_batch = X_train[ beg_i:beg_i + batch_size, :]\n",
    "        y_batch = Y_train[ beg_i:beg_i + batch_size]\n",
    "        # remise à zéro des gradients\n",
    "        optimizer.zero_grad()\n",
    "        # forward:\n",
    "        outputs = net(x_batch)\n",
    "        loss = criterion(outputs, y_batch)\n",
    "        loss.backward()\n",
    "        optimizer.step()\n",
    "        losses.append(loss.data.item())\n",
    "        if (beg_i//batch_size) % 10 == 0: \n",
    "            # Affiche le coût toutes les 10 mises à jour\n",
    "            print('loss=', losses[-1])\n",
    "    \n",
    "    # Mesure taux erreur après chaque passe (epoch):\n",
    "    nb_err = nb_erreur_classif( Y_train, net(X_train) ) \n",
    "    err_rates.append( nb_err*100/len(Y_train) )\n",
    "    print(\"Nombre d'erreurs (training set):\", nb_err, \"(%3.2g%%)\" % err_rates[-1])\n",
    "\n",
    "print(\"ok.\")"
   ]
  },
  {
   "cell_type": "code",
   "execution_count": 30,
   "metadata": {},
   "outputs": [
    {
     "data": {
      "text/plain": [
       "Text(0.5,1,'Training error')"
      ]
     },
     "execution_count": 30,
     "metadata": {},
     "output_type": "execute_result"
    },
    {
     "data": {
      "image/png": "[encoded data removed]",
      "text/plain": [
       "<Figure size 432x288 with 2 Axes>"
      ]
     },
     "metadata": {
      "needs_background": "light"
     },
     "output_type": "display_data"
    }
   ],
   "source": [
    "plt.figure()\n",
    "plt.subplot(1,2,1)\n",
    "plt.plot(losses)\n",
    "plt.title('Coût MSE')\n",
    "plt.subplot(1,2,2)\n",
    "plt.plot(err_rates)\n",
    "plt.title('Training error')"
   ]
  },
  {
   "cell_type": "markdown",
   "metadata": {},
   "source": [
    "## Questions \n",
    "\n",
    "1. Tracer, sur les mêmes graphiques que ci-dessus, l'évolution du coût et du taux d'erreur sur l'ensemble de test. Discuter les résultats.\n",
    "\n",
    "2. Afficher la matrice de confusion (attention à l'encodage de la sortie en \"one hot\")\n",
    "\n",
    "3. Reprendre le tout (dans un nouveau notebook copié de celui-ci) avec un coût `CrossEntropyLoss`. (Attention, le codage de la sortie dot alors être le label désiré, un nombre entre 0 et 9).\n"
   ]
  },
  {
   "cell_type": "code",
   "execution_count": null,
   "metadata": {},
   "outputs": [],
   "source": []
  }
 ],
 "metadata": {
  "kernelspec": {
   "display_name": "Python 3",
   "language": "python",
   "name": "python3"
  },
  "language_info": {
   "codemirror_mode": {
    "name": "ipython",
    "version": 3
   },
   "file_extension": ".py",
   "mimetype": "text/x-python",
   "name": "python",
   "nbconvert_exporter": "python",
   "pygments_lexer": "ipython3",
   "version": "3.6.7"
  }
 },
 "nbformat": 4,
 "nbformat_minor": 1
}
